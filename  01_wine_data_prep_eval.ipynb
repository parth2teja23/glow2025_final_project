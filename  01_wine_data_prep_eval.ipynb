{
 "cells": [
  {
   "cell_type": "markdown",
   "id": "2d36c492-a469-4aff-91f3-f07ed9f37061",
   "metadata": {},
   "source": [
    "## Introduction\n",
    "\n",
    "This project aims to build a classification model that predicts wine quality based on its physicochemical properties using machine learning techniques. The dataset used is the Wine Quality dataset from the UCI Machine Learning Repository, which contains measurements like acidity, sugar content, sulfur dioxide levels, pH, and alcohol percentage for various red wine samples.\n",
    "\n",
    "Originally, the quality attribute is a numeric score ranging from 0 to 10, based on human sensory evaluations. However, since the scores are subjective, imbalanced, and ordered, we transform this into a binary classification task to simplify the modeling process.\n",
    "\n",
    "Using pandas.cut(), we divide the quality scores into two categories:\n",
    "- \"bad\": quality scores from 2 up to and including 6.5\n",
    "- \"good\": quality scores above 6.5 up to 8\n",
    "\n",
    "This transformation allows us to frame the problem as a binary classification task, where we train machine learning models to classify whether a wine is of good quality or not.\n",
    "\n",
    "The project applies several classification algorithms such as Decision Tree, Logistic Regression, Naive Bayes, and K-Nearest Neighbors (KNN). The performance of these models is evaluated using metrics like accuracy, precision, recall, F1-score, and ROC-AUC, allowing us to understand which physicochemical factors best predict wine quality and which model generalizes well."
   ]
  },
  {
   "cell_type": "markdown",
   "id": "8c840fba-4c1c-4215-bf0f-f63f4884d04a",
   "metadata": {},
   "source": [
    "# Importing required packages."
   ]
  },
  {
   "cell_type": "code",
   "execution_count": null,
   "id": "45863956-65e3-4829-bafb-f73715205cdf",
   "metadata": {},
   "outputs": [],
   "source": [
    "import pandas as pd\n",
    "import seaborn as sns\n",
    "import matplotlib.pyplot as plt\n",
    "from sklearn.ensemble import RandomForestClassifier\n",
    "from sklearn.svm import SVC\n",
    "from sklearn.linear_model import SGDClassifier\n",
    "from sklearn.metrics import accuracy_score, precision_score, recall_score, f1_score, confusion_matrix, classification_report\n",
    "from sklearn.preprocessing import StandardScaler, LabelEncoder\n",
    "from sklearn.model_selection import train_test_split, GridSearchCV, cross_val_score\n",
    "%matplotlib inline"
   ]
  },
  {
   "cell_type": "markdown",
   "id": "af523d9d-1bc4-4150-ae3a-aa750143a209",
   "metadata": {},
   "source": [
    "# Loading the dataset"
   ]
  },
  {
   "cell_type": "code",
   "execution_count": null,
   "id": "c8d02062-750a-4926-948c-b9678f894304",
   "metadata": {},
   "outputs": [],
   "source": [
    "wine = pd.read_csv('winequality-red.csv')\n",
    "wine.head()"
   ]
  },
  {
   "cell_type": "markdown",
   "id": "010c82c8-9b0d-46fe-b533-c476bd711a53",
   "metadata": {},
   "source": [
    "# Information on the dataset"
   ]
  },
  {
   "cell_type": "code",
   "execution_count": null,
   "id": "a73c23f7-0b69-424a-909e-d686ae704e62",
   "metadata": {},
   "outputs": [],
   "source": [
    "wine.info()"
   ]
  },
  {
   "cell_type": "markdown",
   "id": "0e2fcba3-0ea9-4266-9c4c-cb191f326712",
   "metadata": {},
   "source": [
    "# Column distribution"
   ]
  },
  {
   "cell_type": "code",
   "execution_count": null,
   "id": "06beef68-d3be-4511-9fcf-b2f004412de2",
   "metadata": {},
   "outputs": [],
   "source": [
    "fig = plt.figure(figsize = (10,6))\n",
    "sns.barplot(hue='quality', y='fixed acidity', x='quality', data=wine)"
   ]
  },
  {
   "cell_type": "code",
   "execution_count": null,
   "id": "351e7faf-6921-49d7-8f5c-6bae2f49fe81",
   "metadata": {},
   "outputs": [],
   "source": [
    "fig = plt.figure(figsize = (10,6))\n",
    "sns.barplot(hue='quality', x = 'quality', y = 'citric acid', data = wine)"
   ]
  },
  {
   "cell_type": "code",
   "execution_count": null,
   "id": "43a5b1ec-6dd4-4e00-bc80-63f375ce99be",
   "metadata": {},
   "outputs": [],
   "source": [
    "fig = plt.figure(figsize = (10,6))\n",
    "sns.barplot(hue='quality', x = 'quality', y = 'residual sugar', data = wine)"
   ]
  },
  {
   "cell_type": "code",
   "execution_count": null,
   "id": "4b38f8f2-64a6-4ef8-8ce9-44776f109d9b",
   "metadata": {},
   "outputs": [],
   "source": [
    "fig = plt.figure(figsize = (10,6))\n",
    "sns.barplot(hue='quality', x = 'quality', y = 'chlorides', data = wine)"
   ]
  },
  {
   "cell_type": "code",
   "execution_count": null,
   "id": "5f6173c6-84f6-46f2-9619-1a01a83263a0",
   "metadata": {},
   "outputs": [],
   "source": [
    "fig = plt.figure(figsize = (10,6))\n",
    "sns.barplot(hue='quality', x = 'quality', y = 'free sulfur dioxide', data = wine)"
   ]
  },
  {
   "cell_type": "code",
   "execution_count": null,
   "id": "028c1d62-c9a8-4a1c-bc68-ed6cb53b46d4",
   "metadata": {},
   "outputs": [],
   "source": [
    "fig = plt.figure(figsize = (10,6))\n",
    "sns.barplot(hue='quality', x = 'quality', y = 'total sulfur dioxide', data = wine)"
   ]
  },
  {
   "cell_type": "code",
   "execution_count": null,
   "id": "31ede28c-cc50-4794-b869-d64560c0db3e",
   "metadata": {},
   "outputs": [],
   "source": [
    "fig = plt.figure(figsize = (10,6))\n",
    "sns.barplot(hue='quality', x = 'quality', y = 'sulphates', data = wine)"
   ]
  },
  {
   "cell_type": "code",
   "execution_count": null,
   "id": "d7ce0a23-0088-4e8c-8119-8cf8535be64a",
   "metadata": {},
   "outputs": [],
   "source": [
    "fig = plt.figure(figsize = (10,6))\n",
    "sns.barplot(hue='quality', x = 'quality', y = 'alcohol', data = wine)"
   ]
  },
  {
   "cell_type": "markdown",
   "id": "4f28dba1-5953-466e-b4f9-b7186739ac52",
   "metadata": {},
   "source": [
    "# Preprocessing Data"
   ]
  },
  {
   "cell_type": "code",
   "execution_count": null,
   "id": "c73da8b6-7451-4cb0-9b99-8416be452dd8",
   "metadata": {},
   "outputs": [],
   "source": [
    "# Define the bin edges:\n",
    "# quality scores from 2 to 6.5 will be labeled 'bad', and 6.5 to 8 as 'good'\n",
    "bins = (2, 6.5, 8)\n",
    "\n",
    "# Define the corresponding labels for the bins\n",
    "group_names = ['bad', 'good']\n",
    "wine['quality'] = pd.cut(wine['quality'], bins = bins, labels = group_names)\n",
    "label_quality = LabelEncoder()\n",
    "\n",
    "#Bad becomes 0 and good becomes 1 \n",
    "wine['quality'] = label_quality.fit_transform(wine['quality'])\n",
    "\n",
    "sns.countplot(hue='quality', x='quality', data=wine)"
   ]
  },
  {
   "cell_type": "code",
   "execution_count": null,
   "id": "f73d846d-ead6-48d4-90ba-1426d34b3285",
   "metadata": {},
   "outputs": [],
   "source": [
    "X = wine.drop('quality', axis = 1)\n",
    "y = wine['quality']\n",
    "X_train, X_test, y_train, y_test = train_test_split(X, y, test_size = 0.2, random_state = 42)\n",
    "sc = StandardScaler()\n",
    "X_train = sc.fit_transform(X_train)\n",
    "X_test = sc.transform(X_test) "
   ]
  },
  {
   "cell_type": "markdown",
   "id": "ff54a0c8-f6e0-46a5-8851-db3ecc98a7d7",
   "metadata": {},
   "source": [
    "# Random Forest Classifier"
   ]
  },
  {
   "cell_type": "code",
   "execution_count": null,
   "id": "7cfbf47d-7f0b-4680-9a32-28c7cc80687a",
   "metadata": {},
   "outputs": [],
   "source": [
    "def evaluate_model(model, X_train, y_train, X_test, y_test):\n",
    "    model.fit(X_train, y_train)\n",
    "    y_pred = model.predict(X_test)\n",
    "\n",
    "    print(f\"🔍 Model: {model.__class__.__name__}\")\n",
    "    print(f\"✅ Accuracy:  {accuracy_score(y_test, y_pred):.4f}\")\n",
    "    print(f\"✅ Precision: {precision_score(y_test, y_pred):.4f}\")\n",
    "    print(f\"✅ Recall:    {recall_score(y_test, y_pred):.4f}\")\n",
    "    print(f\"✅ F1-score:  {f1_score(y_test, y_pred):.4f}\")\n",
    "    print(\"\\n🧩 Confusion Matrix:\")\n",
    "    print(confusion_matrix(y_test, y_pred))\n",
    "    print(\"\\n📋 Classification Report:\")\n",
    "    print(classification_report(y_test, y_pred))"
   ]
  },
  {
   "cell_type": "code",
   "execution_count": null,
   "id": "a88f8afc-b5f8-4e7b-8fc1-1237c63e29eb",
   "metadata": {},
   "outputs": [],
   "source": [
    "from sklearn.ensemble import RandomForestClassifier\n",
    "evaluate_model(RandomForestClassifier(), X_train, y_train, X_test, y_test)"
   ]
  },
  {
   "cell_type": "code",
   "execution_count": null,
   "id": "c633ec76-f4e3-4e14-b77b-750f5480c1bf",
   "metadata": {},
   "outputs": [],
   "source": []
  }
 ],
 "metadata": {
  "kernelspec": {
   "display_name": "Python 3 (ipykernel)",
   "language": "python",
   "name": "python3"
  },
  "language_info": {
   "codemirror_mode": {
    "name": "ipython",
    "version": 3
   },
   "file_extension": ".py",
   "mimetype": "text/x-python",
   "name": "python",
   "nbconvert_exporter": "python",
   "pygments_lexer": "ipython3",
   "version": "3.12.9"
  }
 },
 "nbformat": 4,
 "nbformat_minor": 5
}
