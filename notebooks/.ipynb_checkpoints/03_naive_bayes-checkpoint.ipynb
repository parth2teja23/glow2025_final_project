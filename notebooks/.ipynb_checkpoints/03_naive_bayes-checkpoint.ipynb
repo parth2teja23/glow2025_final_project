{
 "cells": [
  {
   "cell_type": "markdown",
   "id": "70579a68-a295-48ba-aa33-bad6ac08fadf",
   "metadata": {},
   "source": [
    "# Importing required packages.\n",
    "This section imports the necessary libraries specifically for implementing the **Naive Bayes classifier** and evaluating its performance. "
   ]
  },
  {
   "cell_type": "code",
   "execution_count": 1,
   "id": "8d84a337-f2d0-4087-b0eb-1bbd407f2662",
   "metadata": {},
   "outputs": [],
   "source": [
    "import joblib\n",
    "import numpy as np\n",
    "import matplotlib.pyplot as plt\n",
    "import seaborn as sns\n",
    "from sklearn.naive_bayes import GaussianNB\n",
    "from sklearn.metrics import accuracy_score, precision_score, recall_score, f1_score, confusion_matrix, classification_report"
   ]
  },
  {
   "cell_type": "code",
   "execution_count": 2,
   "id": "0758f738-6329-4ee2-8e78-2e60ce1b868f",
   "metadata": {},
   "outputs": [
    {
     "ename": "FileNotFoundError",
     "evalue": "[Errno 2] No such file or directory: 'X_train.pkl'",
     "output_type": "error",
     "traceback": [
      "\u001b[0;31m---------------------------------------------------------------------------\u001b[0m",
      "\u001b[0;31mFileNotFoundError\u001b[0m                         Traceback (most recent call last)",
      "Cell \u001b[0;32mIn[2], line 2\u001b[0m\n\u001b[1;32m      1\u001b[0m \u001b[38;5;66;03m# Load preprocessed data\u001b[39;00m\n\u001b[0;32m----> 2\u001b[0m X_train \u001b[38;5;241m=\u001b[39m \u001b[43mjoblib\u001b[49m\u001b[38;5;241;43m.\u001b[39;49m\u001b[43mload\u001b[49m\u001b[43m(\u001b[49m\u001b[38;5;124;43m'\u001b[39;49m\u001b[38;5;124;43mX_train.pkl\u001b[39;49m\u001b[38;5;124;43m'\u001b[39;49m\u001b[43m)\u001b[49m\n\u001b[1;32m      3\u001b[0m X_test \u001b[38;5;241m=\u001b[39m joblib\u001b[38;5;241m.\u001b[39mload(\u001b[38;5;124m'\u001b[39m\u001b[38;5;124mX_test.pkl\u001b[39m\u001b[38;5;124m'\u001b[39m)\n\u001b[1;32m      4\u001b[0m y_train \u001b[38;5;241m=\u001b[39m joblib\u001b[38;5;241m.\u001b[39mload(\u001b[38;5;124m'\u001b[39m\u001b[38;5;124my_train.pkl\u001b[39m\u001b[38;5;124m'\u001b[39m)\n",
      "File \u001b[0;32m/opt/conda/lib/python3.12/site-packages/joblib/numpy_pickle.py:650\u001b[0m, in \u001b[0;36mload\u001b[0;34m(filename, mmap_mode)\u001b[0m\n\u001b[1;32m    648\u001b[0m         obj \u001b[38;5;241m=\u001b[39m _unpickle(fobj)\n\u001b[1;32m    649\u001b[0m \u001b[38;5;28;01melse\u001b[39;00m:\n\u001b[0;32m--> 650\u001b[0m     \u001b[38;5;28;01mwith\u001b[39;00m \u001b[38;5;28;43mopen\u001b[39;49m\u001b[43m(\u001b[49m\u001b[43mfilename\u001b[49m\u001b[43m,\u001b[49m\u001b[43m \u001b[49m\u001b[38;5;124;43m'\u001b[39;49m\u001b[38;5;124;43mrb\u001b[39;49m\u001b[38;5;124;43m'\u001b[39;49m\u001b[43m)\u001b[49m \u001b[38;5;28;01mas\u001b[39;00m f:\n\u001b[1;32m    651\u001b[0m         \u001b[38;5;28;01mwith\u001b[39;00m _read_fileobject(f, filename, mmap_mode) \u001b[38;5;28;01mas\u001b[39;00m fobj:\n\u001b[1;32m    652\u001b[0m             \u001b[38;5;28;01mif\u001b[39;00m \u001b[38;5;28misinstance\u001b[39m(fobj, \u001b[38;5;28mstr\u001b[39m):\n\u001b[1;32m    653\u001b[0m                 \u001b[38;5;66;03m# if the returned file object is a string, this means we\u001b[39;00m\n\u001b[1;32m    654\u001b[0m                 \u001b[38;5;66;03m# try to load a pickle file generated with an version of\u001b[39;00m\n\u001b[1;32m    655\u001b[0m                 \u001b[38;5;66;03m# Joblib so we load it with joblib compatibility function.\u001b[39;00m\n",
      "\u001b[0;31mFileNotFoundError\u001b[0m: [Errno 2] No such file or directory: 'X_train.pkl'"
     ]
    }
   ],
   "source": [
    "# Load preprocessed data\n",
    "X_train = joblib.load('/home/jovyan/work/glow2025_final_project/X_train.pkl')\n",
    "X_test = joblib.load('/home/jovyan/work/glow2025_final_project/X_test.pkl')\n",
    "y_train = joblib.load('/home/jovyan/work/glow2025_final_project/y_train.pkl')\n",
    "y_test = joblib.load('/home/jovyan/work/glow2025_final_project/y_test.pkl')"
   ]
  },
  {
   "cell_type": "markdown",
   "id": "30b726f7-9a13-4241-81b5-aa1094a3f639",
   "metadata": {},
   "source": [
    "### How Naive Bayes Work\n",
    "Naive Bayes is a **probabilistic classifier** based on **Bayes’ Theorem**, with a strong (naive) assumption\n",
    "that all features are **independent given the class label**.\n",
    "\n",
    "The prediction is based on computing the **posterior probability** for each class using:\n",
    "\n",
    "    P(y | X) = (P(X | y) * P(y)) / P(X)\n",
    "\n",
    "Where:\n",
    "- `P(y | X)` is the probability of class `y` given the input features `X`\n",
    "- `P(X | y)` is the likelihood of the features given class `y`\n",
    "- `P(y)` is the prior probability of class `y`\n",
    "- `P(X)` is the evidence (can be ignored during classification since it's constant for all classes)\n",
    "\n",
    "In `GaussianNB` (used in this project), it is assumed that the features follow a **Gaussian (normal) distribution**.\n",
    "For each feature and class, the model estimates:\n",
    "- The **mean** and **variance** during training\n",
    "- Then computes the **probability density** for test points using the Gaussian formula\n",
    "\n",
    "Despite its simplicity, Naive Bayes performs well on many real-world datasets, especially those with\n",
    "**independent or semi-independent features**."
   ]
  },
  {
   "cell_type": "code",
   "execution_count": null,
   "id": "946b86e8-92ad-4e15-b5cc-98d56f8bf27c",
   "metadata": {},
   "outputs": [],
   "source": [
    "# Initialize and train the Naive Bayes classifier\n",
    "nb_model = GaussianNB()\n",
    "nb_model.fit(X_train, y_train)\n",
    "\n",
    "# Predict on the test set\n",
    "y_pred = nb_model.predict(X_test)"
   ]
  },
  {
   "cell_type": "code",
   "execution_count": null,
   "id": "a9c3c0d8-a740-443c-8a89-4234cfc08820",
   "metadata": {},
   "outputs": [],
   "source": [
    "def evaluate_model(model, X_train, y_train, X_test, y_test):\n",
    "    model.fit(X_train, y_train)\n",
    "    y_pred = model.predict(X_test)\n",
    "\n",
    "    print(f\"Model: {model.__class__.__name__}\")\n",
    "    print(f\"Accuracy:  {accuracy_score(y_test, y_pred):.4f}\")\n",
    "    print(f\"Precision: {precision_score(y_test, y_pred):.4f}\")\n",
    "    print(f\"Recall:    {recall_score(y_test, y_pred):.4f}\")\n",
    "    print(f\"F1-score:  {f1_score(y_test, y_pred):.4f}\")\n",
    "    \n",
    "    print(\"\\nClassification Report:\")\n",
    "    print(classification_report(y_test, y_pred))\n",
    "\n",
    "    print(\"\\nConfusion Matrix:\")\n",
    "    cm = confusion_matrix(y_test, y_pred)\n",
    "    sns.heatmap(cm, annot=True, fmt='d', cmap='Blues')\n",
    "    plt.xlabel(\"Predicted\")\n",
    "    plt.ylabel(\"Actual\")\n",
    "    plt.title(f\"{model.__class__.__name__} Confusion Matrix\")\n",
    "    plt.show()\n"
   ]
  },
  {
   "cell_type": "code",
   "execution_count": null,
   "id": "f0ae83e4-38d4-4886-88e1-d6497487dd69",
   "metadata": {},
   "outputs": [],
   "source": [
    "evaluate_model(GaussianNB(), X_train, y_train, X_test, y_test)"
   ]
  }
 ],
 "metadata": {
  "kernelspec": {
   "display_name": "Python 3 (ipykernel)",
   "language": "python",
   "name": "python3"
  },
  "language_info": {
   "codemirror_mode": {
    "name": "ipython",
    "version": 3
   },
   "file_extension": ".py",
   "mimetype": "text/x-python",
   "name": "python",
   "nbconvert_exporter": "python",
   "pygments_lexer": "ipython3",
   "version": "3.12.9"
  }
 },
 "nbformat": 4,
 "nbformat_minor": 5
}
