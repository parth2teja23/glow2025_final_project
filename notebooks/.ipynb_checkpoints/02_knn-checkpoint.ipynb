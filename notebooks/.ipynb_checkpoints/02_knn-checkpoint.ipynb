{
 "cells": [
  {
   "cell_type": "markdown",
   "id": "0b88cefe-ed91-40cf-a686-c1c92d4036b6",
   "metadata": {},
   "source": [
    "# Importing required packages.\n",
    "This section imports the necessary libraries specifically for implementing the **KNN classifier** and evaluating its performance."
   ]
  },
  {
   "cell_type": "code",
   "execution_count": 1,
   "id": "c767c99b-fe51-4466-af8c-137dd28b807a",
   "metadata": {},
   "outputs": [],
   "source": [
    "import pandas as pd\n",
    "import joblib\n",
    "from sklearn.preprocessing import StandardScaler\n",
    "from sklearn.neighbors import KNeighborsClassifier\n",
    "from sklearn.metrics import accuracy_score\n",
    "from scipy.spatial import distance\n",
    "import matplotlib.pyplot as plt\n",
    "import numpy as np\n",
    "from sklearn.metrics import classification_report, confusion_matrix\n",
    "from sklearn.decomposition import PCA\n",
    "from matplotlib.colors import ListedColormap"
   ]
  },
  {
   "cell_type": "markdown",
   "id": "8ca18ae1-06e9-447c-9153-1c4c708af1e3",
   "metadata": {},
   "source": [
    "# Train KNN Classifier with Euclidean Distance Calculation\n",
    "\n",
    "📘 Purpose:\n",
    "This section demonstrates how KNN with (k=1) classifies a new data point by calculating Euclidean distance to all training samples.\n",
    "\n",
    "💡 Why this step?\n",
    "\n",
    "- To manually simulate what KNN does internally: finding the \"nearest\" training sample.\n",
    "- Helps understand how distance metrics impact classification.\n",
    "- Euclidean distance is one of the most common choices for continuous, numerical features.\n",
    "\n",
    "📏 Distance formula used: d(x,x'_ = sqrt(sum(xi-x'i)^2)\n",
    "\n",
    "We compute this between the first test sample and each training sample."
   ]
  },
  {
   "cell_type": "code",
   "execution_count": 2,
   "id": "efc029a6-470f-4272-9c19-b9f3212aa900",
   "metadata": {},
   "outputs": [
    {
     "ename": "FileNotFoundError",
     "evalue": "[Errno 2] No such file or directory: 'X_train.pkl'",
     "output_type": "error",
     "traceback": [
      "\u001b[0;31m---------------------------------------------------------------------------\u001b[0m",
      "\u001b[0;31mFileNotFoundError\u001b[0m                         Traceback (most recent call last)",
      "Cell \u001b[0;32mIn[2], line 2\u001b[0m\n\u001b[1;32m      1\u001b[0m \u001b[38;5;66;03m# Load preprocessed and scaled data from .pkl files\u001b[39;00m\n\u001b[0;32m----> 2\u001b[0m X_train \u001b[38;5;241m=\u001b[39m \u001b[43mjoblib\u001b[49m\u001b[38;5;241;43m.\u001b[39;49m\u001b[43mload\u001b[49m\u001b[43m(\u001b[49m\u001b[38;5;124;43m'\u001b[39;49m\u001b[38;5;124;43mX_train.pkl\u001b[39;49m\u001b[38;5;124;43m'\u001b[39;49m\u001b[43m)\u001b[49m\n\u001b[1;32m      3\u001b[0m X_test \u001b[38;5;241m=\u001b[39m joblib\u001b[38;5;241m.\u001b[39mload(\u001b[38;5;124m'\u001b[39m\u001b[38;5;124mX_test.pkl\u001b[39m\u001b[38;5;124m'\u001b[39m)\n\u001b[1;32m      4\u001b[0m y_train \u001b[38;5;241m=\u001b[39m joblib\u001b[38;5;241m.\u001b[39mload(\u001b[38;5;124m'\u001b[39m\u001b[38;5;124my_train.pkl\u001b[39m\u001b[38;5;124m'\u001b[39m)\n",
      "File \u001b[0;32m/opt/conda/lib/python3.12/site-packages/joblib/numpy_pickle.py:650\u001b[0m, in \u001b[0;36mload\u001b[0;34m(filename, mmap_mode)\u001b[0m\n\u001b[1;32m    648\u001b[0m         obj \u001b[38;5;241m=\u001b[39m _unpickle(fobj)\n\u001b[1;32m    649\u001b[0m \u001b[38;5;28;01melse\u001b[39;00m:\n\u001b[0;32m--> 650\u001b[0m     \u001b[38;5;28;01mwith\u001b[39;00m \u001b[38;5;28;43mopen\u001b[39;49m\u001b[43m(\u001b[49m\u001b[43mfilename\u001b[49m\u001b[43m,\u001b[49m\u001b[43m \u001b[49m\u001b[38;5;124;43m'\u001b[39;49m\u001b[38;5;124;43mrb\u001b[39;49m\u001b[38;5;124;43m'\u001b[39;49m\u001b[43m)\u001b[49m \u001b[38;5;28;01mas\u001b[39;00m f:\n\u001b[1;32m    651\u001b[0m         \u001b[38;5;28;01mwith\u001b[39;00m _read_fileobject(f, filename, mmap_mode) \u001b[38;5;28;01mas\u001b[39;00m fobj:\n\u001b[1;32m    652\u001b[0m             \u001b[38;5;28;01mif\u001b[39;00m \u001b[38;5;28misinstance\u001b[39m(fobj, \u001b[38;5;28mstr\u001b[39m):\n\u001b[1;32m    653\u001b[0m                 \u001b[38;5;66;03m# if the returned file object is a string, this means we\u001b[39;00m\n\u001b[1;32m    654\u001b[0m                 \u001b[38;5;66;03m# try to load a pickle file generated with an version of\u001b[39;00m\n\u001b[1;32m    655\u001b[0m                 \u001b[38;5;66;03m# Joblib so we load it with joblib compatibility function.\u001b[39;00m\n",
      "\u001b[0;31mFileNotFoundError\u001b[0m: [Errno 2] No such file or directory: 'X_train.pkl'"
     ]
    }
   ],
   "source": [
    "# Load preprocessed and scaled data from .pkl files\n",
    "X_train = joblib.load('/home/jovyan/work/glow2025_final_project/X_train.pkl')\n",
    "X_test = joblib.load('/home/jovyan/work/glow2025_final_project/X_test.pkl')\n",
    "y_train = joblib.load('/home/jovyan/work/glow2025_final_project/y_train.pkl')\n",
    "y_test = joblib.load('/home/jovyan/work/glow2025_final_project/y_test.pkl')\n",
    "\n",
    "# Example: Train KNN with k=1\n",
    "knn = KNeighborsClassifier(n_neighbors=1, metric='euclidean')\n",
    "knn.fit(X_train, y_train)\n",
    "y_pred = knn.predict(X_test)\n",
    "\n",
    "# Show manual Euclidean distance for first test sample\n",
    "print(\"🔢 Manual Euclidean Distance Calculation (first test sample):\")\n",
    "dists = [np.sqrt(np.sum((x - X_test[0]) ** 2)) for x in X_train]\n",
    "nearest_index = np.argmin(dists)\n",
    "print(f\"Closest training sample index: {nearest_index}, Label: {y_train.iloc[nearest_index]}\")"
   ]
  },
  {
   "cell_type": "markdown",
   "id": "c9fc65f9-3e3a-40c0-8b23-1f1b1dab0367",
   "metadata": {},
   "source": [
    "# Experiment with Different K Values\n",
    "\n",
    "📘 Purpose:\n",
    "To compare how different values of K affect the performance of the KNN classifier.\n",
    "\n",
    "💡 Why test multiple K values (1, 3, 5, 7, 9)?\n",
    "\n",
    "- K = 1: Very sensitive to noise; may overfit.\n",
    "- K = 3 and 5: Common values used to balance bias and variance.\n",
    "- K = 7 and 9: Test slightly larger K to see if smoothing helps with generalization.\n",
    "- All values are odd numbers to avoid ties during classification (important for binary classification).\n",
    "\n",
    "📊 Goal:\n",
    "-To find the best K that gives the highest validation accuracy.\n",
    "-We also plot Validation Accuracy vs K to observe the pattern.\n",
    "\n"
   ]
  },
  {
   "cell_type": "code",
   "execution_count": null,
   "id": "e245f826-da5e-424f-9285-b181f63e688a",
   "metadata": {},
   "outputs": [],
   "source": [
    "# Try multiple k values\n",
    "k_values = [1, 3, 5, 7, 9]\n",
    "val_scores = []\n",
    "\n",
    "for k in k_values:\n",
    "    model = KNeighborsClassifier(n_neighbors=k, metric='euclidean')\n",
    "    model.fit(X_train, y_train)\n",
    "    y_pred = model.predict(X_test)\n",
    "    acc = accuracy_score(y_test, y_pred)\n",
    "    val_scores.append(acc)\n",
    "    print(f\"K = {k} → Accuracy = {acc:.4f}\")\n",
    "\n",
    "# Plot validation accuracy per k\n",
    "plt.figure(figsize=(8,5))\n",
    "plt.plot(k_values, val_scores, marker='o', color='blue')\n",
    "plt.title(\"Validation Accuracy vs K\")\n",
    "plt.xlabel(\"K Value\")\n",
    "plt.ylabel(\"Accuracy\")\n",
    "plt.grid(True)\n",
    "plt.show()\n",
    "\n",
    "# Find best K\n",
    "best_k = k_values[np.argmax(val_scores)]\n",
    "print(f\"\\n✅ Best K = {best_k} with Accuracy = {max(val_scores)*100:.2f}%\")\n"
   ]
  },
  {
   "cell_type": "markdown",
   "id": "1dcf2abd-1353-44d4-817a-ba18393af2be",
   "metadata": {},
   "source": [
    "# Final Evaluation with Confusion Matrix\n",
    "\n",
    "📘 Purpose:\n",
    "To evaluate the final model performance using the best K value found from the previous step.\n",
    "\n",
    "💡 Why use confusion matrix and classification report?\n",
    "\n",
    "- Accuracy alone can be misleading, especially with imbalanced data (more Bad than Good wines).\n",
    "- Confusion matrix gives insight into:\n",
    "    - True positives, false negatives, etc.\n",
    "    - How well each class is predicted\n",
    "\n",
    "- Classification report provides:\n",
    "    - Precision: How many predicted goods are actually good\n",
    "    - Recall: How many actual goods are correctly predicted\n",
    "    - F1-score: Harmonic mean of precision and recall\n",
    "\n",
    "🧠 Insight:\n",
    "- The model performs much better on the majority class (Bad wine)\n",
    "- Recall for Good wine is relatively low → model struggles to identify minority class"
   ]
  },
  {
   "cell_type": "code",
   "execution_count": null,
   "id": "4dce9fc9-0b66-4143-a44b-44d1894fe6b4",
   "metadata": {},
   "outputs": [],
   "source": [
    "# Train final KNN model using best K\n",
    "final_knn = KNeighborsClassifier(n_neighbors=best_k, metric='euclidean')\n",
    "final_knn.fit(X_train, y_train)\n",
    "y_pred = final_knn.predict(X_test)\n",
    "\n",
    "# Evaluation results\n",
    "print(\"=== Classification Report ===\")\n",
    "print(classification_report(y_test, y_pred))\n",
    "print(\"=== Confusion Matrix ===\")\n",
    "print(confusion_matrix(y_test, y_pred))\n"
   ]
  },
  {
   "cell_type": "markdown",
   "id": "363e922a-ce36-44cc-b8ba-09136493cf9f",
   "metadata": {},
   "source": [
    "# Visualize Decision Boundaries (2D PCA Projection)\n",
    "\n",
    "📘 Purpose:\n",
    "To visualize how KNN separates the classes in a 2D space using PCA.\n",
    "\n",
    "💡 Why use PCA and visualization?\n",
    "- The dataset has 11 features → not possible to visualize directly\n",
    "- PCA reduces it to 2 principal components for human-friendly visualization\n",
    "- Decision boundaries show how the classifier segments the space\n",
    "\n",
    "📌 What we observe:\n",
    "- There is significant overlap between classes in 2D\n",
    "- This explains the difficulty KNN has in clearly separating classes — particularly the minority one"
   ]
  },
  {
   "cell_type": "code",
   "execution_count": null,
   "id": "c64a9330-a5dd-4f83-b302-d6f91077fde6",
   "metadata": {},
   "outputs": [],
   "source": [
    "# Reduce to 2D using PCA\n",
    "pca = PCA(n_components=2)\n",
    "X_train_2D = pca.fit_transform(X_train)\n",
    "X_test_2D = pca.transform(X_test)\n",
    "\n",
    "# Train KNN with best_k\n",
    "best_k = 1  # or replace with your chosen best K\n",
    "knn_2D = KNeighborsClassifier(n_neighbors=best_k, metric='euclidean')\n",
    "knn_2D.fit(X_train_2D, y_train)\n",
    "\n",
    "# Create mesh grid\n",
    "h = 0.02\n",
    "x_min, x_max = X_train_2D[:, 0].min() - 1, X_train_2D[:, 0].max() + 1\n",
    "y_min, y_max = X_train_2D[:, 1].min() - 1, X_train_2D[:, 1].max() + 1\n",
    "xx, yy = np.meshgrid(np.arange(x_min, x_max, h),\n",
    "                     np.arange(y_min, y_max, h))\n",
    "\n",
    "# Predict class for each point in the grid\n",
    "Z = knn_2D.predict(np.c_[xx.ravel(), yy.ravel()])\n",
    "Z = Z.reshape(xx.shape)\n",
    "\n",
    "# Plot the decision boundary\n",
    "plt.figure(figsize=(10, 6))\n",
    "cmap_light = ListedColormap(['#FFAAAA', '#AAAAFF'])\n",
    "cmap_bold = ['red', 'blue']\n",
    "\n",
    "plt.contourf(xx, yy, Z, cmap=cmap_light, alpha=0.4)\n",
    "\n",
    "# Plot training points\n",
    "for idx, cls in enumerate(np.unique(y_train)):\n",
    "    plt.scatter(X_train_2D[y_train == cls, 0],\n",
    "                X_train_2D[y_train == cls, 1],\n",
    "                c=cmap_bold[idx],\n",
    "                label=f'Class {cls}',\n",
    "                edgecolor='k')\n",
    "\n",
    "plt.title(f\"KNN Decision Boundary (k = {best_k}, PCA 2D)\")\n",
    "plt.xlabel(\"PCA Component 1\")\n",
    "plt.ylabel(\"PCA Component 2\")\n",
    "plt.legend()\n",
    "plt.grid(True)\n",
    "plt.show()"
   ]
  }
 ],
 "metadata": {
  "kernelspec": {
   "display_name": "Python 3 (ipykernel)",
   "language": "python",
   "name": "python3"
  },
  "language_info": {
   "codemirror_mode": {
    "name": "ipython",
    "version": 3
   },
   "file_extension": ".py",
   "mimetype": "text/x-python",
   "name": "python",
   "nbconvert_exporter": "python",
   "pygments_lexer": "ipython3",
   "version": "3.12.9"
  }
 },
 "nbformat": 4,
 "nbformat_minor": 5
}
