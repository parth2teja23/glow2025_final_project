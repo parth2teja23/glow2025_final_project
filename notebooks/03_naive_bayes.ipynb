{
 "cells": [
  {
   "cell_type": "markdown",
   "id": "70579a68-a295-48ba-aa33-bad6ac08fadf",
   "metadata": {},
   "source": [
    "# Importing required packages.\n",
    "This section imports the necessary libraries specifically for implementing the **Naive Bayes classifier** and evaluating its performance. "
   ]
  },
  {
   "cell_type": "code",
   "execution_count": 1,
   "id": "8d84a337-f2d0-4087-b0eb-1bbd407f2662",
   "metadata": {},
   "outputs": [],
   "source": [
    "import joblib\n",
    "import numpy as np\n",
    "import matplotlib.pyplot as plt\n",
    "import seaborn as sns\n",
    "from sklearn.naive_bayes import GaussianNB\n",
    "from sklearn.metrics import accuracy_score, precision_score, recall_score, f1_score, confusion_matrix, classification_report"
   ]
  },
  {
   "cell_type": "code",
   "execution_count": 2,
   "id": "0758f738-6329-4ee2-8e78-2e60ce1b868f",
   "metadata": {},
   "outputs": [],
   "source": [
    "# Load preprocessed data\n",
    "X_train = joblib.load('X_train.pkl')\n",
    "X_test = joblib.load('X_test.pkl')\n",
    "y_train = joblib.load('y_train.pkl')\n",
    "y_test = joblib.load('y_test.pkl')"
   ]
  },
  {
   "cell_type": "markdown",
   "id": "30b726f7-9a13-4241-81b5-aa1094a3f639",
   "metadata": {},
   "source": [
    "### How Naive Bayes Work\n",
    "Naive Bayes is a **probabilistic classifier** based on **Bayes’ Theorem**, with a strong (naive) assumption\n",
    "that all features are **independent given the class label**.\n",
    "\n",
    "The prediction is based on computing the **posterior probability** for each class using:\n",
    "\n",
    "    P(y | X) = (P(X | y) * P(y)) / P(X)\n",
    "\n",
    "Where:\n",
    "- `P(y | X)` is the probability of class `y` given the input features `X`\n",
    "- `P(X | y)` is the likelihood of the features given class `y`\n",
    "- `P(y)` is the prior probability of class `y`\n",
    "- `P(X)` is the evidence (can be ignored during classification since it's constant for all classes)\n",
    "\n",
    "In `GaussianNB` (used in this project), it is assumed that the features follow a **Gaussian (normal) distribution**.\n",
    "For each feature and class, the model estimates:\n",
    "- The **mean** and **variance** during training\n",
    "- Then computes the **probability density** for test points using the Gaussian formula\n",
    "\n",
    "Despite its simplicity, Naive Bayes performs well on many real-world datasets, especially those with\n",
    "**independent or semi-independent features**."
   ]
  },
  {
   "cell_type": "code",
   "execution_count": 3,
   "id": "946b86e8-92ad-4e15-b5cc-98d56f8bf27c",
   "metadata": {},
   "outputs": [],
   "source": [
    "# Initialize and train the Naive Bayes classifier\n",
    "nb_model = GaussianNB()\n",
    "nb_model.fit(X_train, y_train)\n",
    "\n",
    "# Predict on the test set\n",
    "y_pred = nb_model.predict(X_test)"
   ]
  },
  {
   "cell_type": "code",
   "execution_count": 4,
   "id": "a9c3c0d8-a740-443c-8a89-4234cfc08820",
   "metadata": {},
   "outputs": [],
   "source": [
    "def evaluate_model(model, X_train, y_train, X_test, y_test):\n",
    "    model.fit(X_train, y_train)\n",
    "    y_pred = model.predict(X_test)\n",
    "\n",
    "    print(f\"Model: {model.__class__.__name__}\")\n",
    "    print(f\"Accuracy:  {accuracy_score(y_test, y_pred):.4f}\")\n",
    "    print(f\"Precision: {precision_score(y_test, y_pred):.4f}\")\n",
    "    print(f\"Recall:    {recall_score(y_test, y_pred):.4f}\")\n",
    "    print(f\"F1-score:  {f1_score(y_test, y_pred):.4f}\")\n",
    "    \n",
    "    print(\"\\nClassification Report:\")\n",
    "    print(classification_report(y_test, y_pred))\n",
    "\n",
    "    print(\"\\nConfusion Matrix:\")\n",
    "    cm = confusion_matrix(y_test, y_pred)\n",
    "    sns.heatmap(cm, annot=True, fmt='d', cmap='Blues')\n",
    "    plt.xlabel(\"Predicted\")\n",
    "    plt.ylabel(\"Actual\")\n",
    "    plt.title(f\"{model.__class__.__name__} Confusion Matrix\")\n",
    "    plt.show()\n"
   ]
  },
  {
   "cell_type": "code",
   "execution_count": 5,
   "id": "f0ae83e4-38d4-4886-88e1-d6497487dd69",
   "metadata": {},
   "outputs": [
    {
     "name": "stdout",
     "output_type": "stream",
     "text": [
      "Model: GaussianNB\n",
      "Accuracy:  0.8605\n",
      "Precision: 0.5000\n",
      "Recall:    0.7083\n",
      "F1-score:  0.5862\n",
      "\n",
      "Classification Report:\n",
      "              precision    recall  f1-score   support\n",
      "\n",
      "           0       0.95      0.89      0.92       148\n",
      "           1       0.50      0.71      0.59        24\n",
      "\n",
      "    accuracy                           0.86       172\n",
      "   macro avg       0.72      0.80      0.75       172\n",
      "weighted avg       0.89      0.86      0.87       172\n",
      "\n",
      "\n",
      "Confusion Matrix:\n"
     ]
    },
    {
     "data": {
      "image/png": "[encoded data removed]",
      "text/plain": [
       "<Figure size 640x480 with 2 Axes>"
      ]
     },
     "metadata": {},
     "output_type": "display_data"
    }
   ],
   "source": [
    "evaluate_model(GaussianNB(), X_train, y_train, X_test, y_test)"
   ]
  }
 ],
 "metadata": {
  "kernelspec": {
   "display_name": "Python 3 (ipykernel)",
   "language": "python",
   "name": "python3"
  },
  "language_info": {
   "codemirror_mode": {
    "name": "ipython",
    "version": 3
   },
   "file_extension": ".py",
   "mimetype": "text/x-python",
   "name": "python",
   "nbconvert_exporter": "python",
   "pygments_lexer": "ipython3",
   "version": "3.12.9"
  }
 },
 "nbformat": 4,
 "nbformat_minor": 5
}
