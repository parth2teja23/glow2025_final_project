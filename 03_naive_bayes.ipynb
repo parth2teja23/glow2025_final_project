{
 "cells": [
  {
   "cell_type": "code",
   "execution_count": 4,
   "id": "8d84a337-f2d0-4087-b0eb-1bbd407f2662",
   "metadata": {},
   "outputs": [],
   "source": [
    "import joblib\n",
    "from sklearn.metrics import accuracy_score, precision_score, recall_score, f1_score, confusion_matrix, classification_report\n",
    "\n",
    "# Load preprocessed data\n",
    "X_train = joblib.load('X_train.pkl')\n",
    "X_test = joblib.load('X_test.pkl')\n",
    "y_train = joblib.load('y_train.pkl')\n",
    "y_test = joblib.load('y_test.pkl')"
   ]
  },
  {
   "cell_type": "code",
   "execution_count": 6,
   "id": "a9c3c0d8-a740-443c-8a89-4234cfc08820",
   "metadata": {},
   "outputs": [],
   "source": [
    "def evaluate_model(model, X_train, y_train, X_test, y_test):\n",
    "    model.fit(X_train, y_train)\n",
    "    y_pred = model.predict(X_test)\n",
    "\n",
    "    print(f\"🔍 Model: {model.__class__.__name__}\")\n",
    "    print(f\"✅ Accuracy:  {accuracy_score(y_test, y_pred):.4f}\")\n",
    "    print(f\"✅ Precision: {precision_score(y_test, y_pred):.4f}\")\n",
    "    print(f\"✅ Recall:    {recall_score(y_test, y_pred):.4f}\")\n",
    "    print(f\"✅ F1-score:  {f1_score(y_test, y_pred):.4f}\")\n",
    "    print(\"\\n🧩 Confusion Matrix:\")\n",
    "    print(confusion_matrix(y_test, y_pred))\n",
    "    print(\"\\n📋 Classification Report:\")\n",
    "    print(classification_report(y_test, y_pred))"
   ]
  },
  {
   "cell_type": "code",
   "execution_count": 7,
   "id": "f0ae83e4-38d4-4886-88e1-d6497487dd69",
   "metadata": {},
   "outputs": [
    {
     "name": "stdout",
     "output_type": "stream",
     "text": [
      "🔍 Model: GaussianNB\n",
      "✅ Accuracy:  0.8469\n",
      "✅ Precision: 0.4868\n",
      "✅ Recall:    0.7872\n",
      "✅ F1-score:  0.6016\n",
      "\n",
      "🧩 Confusion Matrix:\n",
      "[[234  39]\n",
      " [ 10  37]]\n",
      "\n",
      "📋 Classification Report:\n",
      "              precision    recall  f1-score   support\n",
      "\n",
      "           0       0.96      0.86      0.91       273\n",
      "           1       0.49      0.79      0.60        47\n",
      "\n",
      "    accuracy                           0.85       320\n",
      "   macro avg       0.72      0.82      0.75       320\n",
      "weighted avg       0.89      0.85      0.86       320\n",
      "\n"
     ]
    }
   ],
   "source": [
    "from sklearn.naive_bayes import GaussianNB\n",
    "\n",
    "evaluate_model(GaussianNB(), X_train, y_train, X_test, y_test)\n"
   ]
  },
  {
   "cell_type": "code",
   "execution_count": 8,
   "id": "07055cd0-02ed-4194-990b-633dd363cac9",
   "metadata": {},
   "outputs": [
    {
     "name": "stdout",
     "output_type": "stream",
     "text": [
      "[[ 0.21833164  0.88971201  0.19209222  0.30972563 -0.04964208  0.69100692\n",
      "   1.04293362  1.84669643  1.09349989  0.45822284  1.12317723]\n",
      " [-1.29016623 -1.78878251  0.65275338 -0.80507963 -0.45521361  2.38847304\n",
      "   3.59387025 -3.00449133 -0.40043872 -0.40119696  1.40827174]\n",
      " [ 1.49475291 -0.78434707  1.01104539 -0.52637831  0.59927236 -0.95796016\n",
      "  -0.99174203  0.76865471 -0.07566946  0.51551749 -0.58738978]\n",
      " [ 0.27635078  0.86181102 -0.06383064 -0.66572897 -0.00908493  0.01202048\n",
      "  -0.71842739  0.08948842  0.05423824 -1.08873281 -0.96751578]\n",
      " [ 0.04427419  2.81487994 -0.62686095  2.39998549 -0.31326357 -0.47296984\n",
      "   0.2229897   1.1998714   0.37900751 -0.9741435  -0.49235828]]\n"
     ]
    }
   ],
   "source": [
    "print(X_train[:5])"
   ]
  },
  {
   "cell_type": "code",
   "execution_count": null,
   "id": "6728ec24-647f-4282-b958-c9e65ede66fc",
   "metadata": {},
   "outputs": [],
   "source": []
  }
 ],
 "metadata": {
  "kernelspec": {
   "display_name": "Python 3 (ipykernel)",
   "language": "python",
   "name": "python3"
  },
  "language_info": {
   "codemirror_mode": {
    "name": "ipython",
    "version": 3
   },
   "file_extension": ".py",
   "mimetype": "text/x-python",
   "name": "python",
   "nbconvert_exporter": "python",
   "pygments_lexer": "ipython3",
   "version": "3.12.4"
  }
 },
 "nbformat": 4,
 "nbformat_minor": 5
}
